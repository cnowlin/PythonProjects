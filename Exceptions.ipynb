{
 "cells": [
  {
   "cell_type": "code",
   "execution_count": 1,
   "metadata": {},
   "outputs": [
    {
     "name": "stdout",
     "output_type": "stream",
     "text": [
      "Input the numerator:6\n",
      "Input the denominator:2\n",
      "3.0\n"
     ]
    }
   ],
   "source": [
    "number1 = input(\"Input the numerator:\")\n",
    "number2 = input(\"Input the denominator:\")\n",
    "r = int(number1)/int(number2)\n",
    "print(r)"
   ]
  },
  {
   "cell_type": "code",
   "execution_count": 1,
   "metadata": {},
   "outputs": [
    {
     "name": "stdout",
     "output_type": "stream",
     "text": [
      "Input the numerator:6\n",
      "Input the denominator:0\n",
      "Warning: bad input\n",
      "0\n"
     ]
    }
   ],
   "source": [
    "number1 = input(\"Input the numerator:\")\n",
    "number2 = input(\"Input the denominator:\")\n",
    "try:\n",
    "    r = int(number1)/int(number2)\n",
    "except:\n",
    "    r = 0 \n",
    "    print(\"Warning: bad input\")\n",
    "    \n",
    "print(r)\n"
   ]
  },
  {
   "cell_type": "code",
   "execution_count": null,
   "metadata": {},
   "outputs": [],
   "source": []
  }
 ],
 "metadata": {
  "kernelspec": {
   "display_name": "Python 3",
   "language": "python",
   "name": "python3"
  },
  "language_info": {
   "codemirror_mode": {
    "name": "ipython",
    "version": 3
   },
   "file_extension": ".py",
   "mimetype": "text/x-python",
   "name": "python",
   "nbconvert_exporter": "python",
   "pygments_lexer": "ipython3",
   "version": "3.7.6"
  }
 },
 "nbformat": 4,
 "nbformat_minor": 4
}
