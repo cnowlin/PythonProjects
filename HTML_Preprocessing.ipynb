{
 "cells": [
  {
   "cell_type": "markdown",
   "metadata": {},
   "source": [
    "# Module 13\n",
    "## Pre-processing WEB data "
   ]
  },
  {
   "cell_type": "markdown",
   "metadata": {},
   "source": [
    "Get the data from a web page. **Note** that web pages are often internationalized to display messages and output in a variety of user-selectable languages. Therefore, Python needs to decode the web page into 'utf-8', which is Python internal code system.  \n",
    "**html** is the output of this chink of code."
   ]
  },
  {
   "cell_type": "code",
   "execution_count": 27,
   "metadata": {},
   "outputs": [
    {
     "name": "stdout",
     "output_type": "stream",
     "text": [
      "49172\n",
      "<class 'str'>\n"
     ]
    }
   ],
   "source": [
    "# \n",
    "import urllib\n",
    "html = urllib.request.urlopen('http://python.org/').read().decode('utf-8')\n",
    "print(len(html))\n",
    "print(type(html))"
   ]
  },
  {
   "cell_type": "markdown",
   "metadata": {},
   "source": [
    "### 1. Without cleaning\n",
    "What happens if I do not clean before tokenization?"
   ]
  },
  {
   "cell_type": "code",
   "execution_count": 28,
   "metadata": {},
   "outputs": [
    {
     "name": "stdout",
     "output_type": "stream",
     "text": [
      "Total no of tokens : 2897\n",
      "['<!doctype', 'html>', '<!--[if', 'lt', 'IE', '7]>', '<html', 'class=\"no-js', 'ie6', 'lt-ie7', 'lt-ie8', 'lt-ie9\">', '<![endif]-->', '<!--[if', 'IE', '7]>', '<html', 'class=\"no-js', 'ie7', 'lt-ie8', 'lt-ie9\">', '<![endif]-->', '<!--[if', 'IE', '8]>', '<html', 'class=\"no-js', 'ie8', 'lt-ie9\">', '<![endif]-->', '<!--[if', 'gt', 'IE', '8]><!--><html', 'class=\"no-js\"', 'lang=\"en\"', 'dir=\"ltr\">', '<!--<![endif]-->', '<head>', '<meta', 'charset=\"utf-8\">', '<meta', 'http-equiv=\"X-UA-Compatible\"', 'content=\"IE=edge\">', '<link', 'rel=\"prefetch\"', 'href=\"//ajax.googleapis.com/ajax/libs/jquery/1.8.2/jquery.min.js\">', '<meta', 'name=\"application-name\"', 'content=\"Python.org\">', '<meta', 'name=\"msapplication-tooltip\"', 'content=\"The', 'official', 'home', 'of', 'the', 'Python', 'Programming', 'Language\">', '<meta', 'name=\"apple-mobile-web-app-title\"', 'content=\"Python.org\">', '<meta', 'name=\"apple-mobile-web-app-capable\"', 'content=\"yes\">', '<meta', 'name=\"apple-mobile-web-app-status-bar-style\"', 'content=\"black\">', '<meta', 'name=\"viewport\"', 'content=\"width=device-width,', 'initial-scale=1.0\">', '<meta', 'name=\"HandheldFriendly\"', 'content=\"True\">', '<meta', 'name=\"format-detection\"', 'content=\"telephone=no\">', '<meta', 'http-equiv=\"cleartype\"', 'content=\"on\">', '<meta', 'http-equiv=\"imagetoolbar\"', 'content=\"false\">', '<script', 'src=\"/static/js/libs/modernizr.js\"></script>', '<link', 'href=\"/static/stylesheets/style.30afed881237.css\"', 'rel=\"stylesheet\"', 'type=\"text/css\"', 'title=\"default\"', '/>', '<link', 'href=\"/static/stylesheets/mq.eef77a5d2257.css\"', 'rel=\"stylesheet\"', 'type=\"text/css\"', 'media=\"not', 'print,', 'braille,']\n"
     ]
    }
   ],
   "source": [
    "# I split the web page in tokens\n",
    "tokens = [tok for tok in html.split()]\n",
    "print(\"Total no of tokens :\", str(len(tokens)))\n",
    "print(tokens[:100])   # print the first 100"
   ]
  },
  {
   "cell_type": "markdown",
   "metadata": {},
   "source": [
    "This is what our token's list looks like without cleaning."
   ]
  },
  {
   "cell_type": "markdown",
   "metadata": {},
   "source": [
    "## 2. Split over non-words elements with re.split()\n",
    "Using re with the reg expression '\\W+' for the split, Python splits the text over the non-word elements."
   ]
  },
  {
   "cell_type": "code",
   "execution_count": 29,
   "metadata": {},
   "outputs": [
    {
     "name": "stdout",
     "output_type": "stream",
     "text": [
      "Total no of tokens : 6207\n",
      "['', 'doctype', 'html', 'if', 'lt', 'IE', '7', 'html', 'class', 'no', 'js', 'ie6', 'lt', 'ie7', 'lt', 'ie8', 'lt', 'ie9', 'endif', 'if', 'IE', '7', 'html', 'class', 'no', 'js', 'ie7', 'lt', 'ie8', 'lt', 'ie9', 'endif', 'if', 'IE', '8', 'html', 'class', 'no', 'js', 'ie8', 'lt', 'ie9', 'endif', 'if', 'gt', 'IE', '8', 'html', 'class', 'no', 'js', 'lang', 'en', 'dir', 'ltr', 'endif', 'head', 'meta', 'charset', 'utf', '8', 'meta', 'http', 'equiv', 'X', 'UA', 'Compatible', 'content', 'IE', 'edge', 'link', 'rel', 'prefetch', 'href', 'ajax', 'googleapis', 'com', 'ajax', 'libs', 'jquery', '1', '8', '2', 'jquery', 'min', 'js', 'meta', 'name', 'application', 'name', 'content', 'Python', 'org', 'meta', 'name', 'msapplication', 'tooltip', 'content', 'The', 'official']\n"
     ]
    }
   ],
   "source": [
    "# Use a different split on non-words elements\n",
    "import re\n",
    "tokens = re.split('\\W+',html)\n",
    "print(\"Total no of tokens :\", str(len(tokens)))\n",
    "print(tokens[:100])"
   ]
  },
  {
   "cell_type": "markdown",
   "metadata": {},
   "source": [
    "This is better than the first try (1.). The problem with the non-clean + split over non-words approach is that we have a lot of HTML tags counted as words."
   ]
  },
  {
   "cell_type": "markdown",
   "metadata": {},
   "source": [
    "## 3. Cleaning HTML with Beautifulsoup + normal split()\n",
    "Beautifoulsoup has the get_text() that strips the HTML tags off out text."
   ]
  },
  {
   "cell_type": "code",
   "execution_count": 30,
   "metadata": {},
   "outputs": [
    {
     "name": "stdout",
     "output_type": "stream",
     "text": [
      "['Welcome', 'to', 'Python.orgNotice:While', 'Javascript', 'is', 'not', 'essential', 'for', 'this', 'website,', 'your', 'interaction', 'with', 'the', 'content', 'will', 'be', 'limited.', 'Please', 'turn', 'Javascript', 'on', 'for', 'the', 'full', 'experience.Skip', 'to', 'content▼ClosePythonPSFDocsPyPIJobsCommunity▲The', 'Python', 'NetworkDonate≡MenuSearch', 'This', 'SiteGOAASmallerLargerResetSocializeFacebookTwitterChat', 'on', 'IRCAboutApplicationsQuotesGetting', 'StartedHelpPython', 'BrochureDownloadsAll', 'releasesSource', 'codeWindowsMac', 'OS', 'XOther', 'PlatformsLicenseAlternative', 'ImplementationsDocumentationDocsAudio/Visual', \"TalksBeginner's\", \"GuideDeveloper's\", 'GuideFAQNon-English', 'DocsPEP', 'IndexPython', 'BooksPython', 'EssaysCommunityCommunity', 'SurveyDiversityMailing', 'ListsIRCForumsPSF', 'Annual', 'Impact', 'ReportPython', 'ConferencesSpecial', 'Interest', 'GroupsPython', 'LogoPython', 'WikiMerchandiseCommunity', 'AwardsCode', 'of', 'ConductSuccess', 'StoriesArtsBusinessEducationEngineeringGovernmentScientificSoftware', 'DevelopmentNewsPython', 'NewsPSF', 'NewsletterCommunity', 'NewsPSF', 'NewsPyCon', 'NewsEventsPython', 'EventsUser', 'Group', 'EventsPython', 'Events', 'ArchiveUser', 'Group', 'Events', 'ArchiveSubmit', 'an', 'Event>_Launch', 'Interactive', 'Shell#', 'Python', '3:', 'Fibonacci', 'series', 'up', 'to', 'n>>>', 'def', 'fib(n):', '>>>', 'a,', 'b', '=', '0,', '1', '>>>', 'while', 'a', '<']\n"
     ]
    }
   ],
   "source": [
    "# Clean with Bs4\n",
    "from bs4 import BeautifulSoup\n",
    "soup = BeautifulSoup(html)\n",
    "clean = soup.get_text(strip=True)\n",
    "tokens = [tok for tok in clean.split()]\n",
    "print(tokens[:100])"
   ]
  },
  {
   "cell_type": "markdown",
   "metadata": {},
   "source": [
    "Now we can see some improvement. But still is not perfect."
   ]
  },
  {
   "cell_type": "markdown",
   "metadata": {},
   "source": [
    "## 4. Cleaning with Beautifulsoup + re.split()"
   ]
  },
  {
   "cell_type": "code",
   "execution_count": 31,
   "metadata": {},
   "outputs": [
    {
     "name": "stdout",
     "output_type": "stream",
     "text": [
      "['', 'doctype', 'html', 'if', 'lt', 'IE', '7', 'html', 'class', 'no', 'js', 'ie6', 'lt', 'ie7', 'lt', 'ie8', 'lt', 'ie9', 'endif', 'if', 'IE', '7', 'html', 'class', 'no', 'js', 'ie7', 'lt', 'ie8', 'lt', 'ie9', 'endif', 'if', 'IE', '8', 'html', 'class', 'no', 'js', 'ie8', 'lt', 'ie9', 'endif', 'if', 'gt', 'IE', '8', 'html', 'class', 'no', 'js', 'lang', 'en', 'dir', 'ltr', 'endif', 'head', 'meta', 'charset', 'utf', '8', 'meta', 'http', 'equiv', 'X', 'UA', 'Compatible', 'content', 'IE', 'edge', 'link', 'rel', 'prefetch', 'href', 'ajax', 'googleapis', 'com', 'ajax', 'libs', 'jquery', '1', '8', '2', 'jquery', 'min', 'js', 'meta', 'name', 'application', 'name', 'content', 'Python', 'org', 'meta', 'name', 'msapplication', 'tooltip', 'content', 'The', 'official']\n"
     ]
    }
   ],
   "source": [
    "# Still use BS4 for cleaning\n",
    "from bs4 import BeautifulSoup\n",
    "soup = BeautifulSoup(html)\n",
    "clean = soup.get_text(strip=True)\n",
    "# Now use re.split()\n",
    "tokens = re.split('\\W+',html)\n",
    "print(tokens[:100])"
   ]
  },
  {
   "cell_type": "markdown",
   "metadata": {},
   "source": [
    "And this outcome looks not too bad. Still, I have some HTML and Javascript tags over there."
   ]
  },
  {
   "cell_type": "markdown",
   "metadata": {},
   "source": [
    "## 5. Let's calc the frequency of the outcome of the last step (4.)"
   ]
  },
  {
   "cell_type": "code",
   "execution_count": 32,
   "metadata": {},
   "outputs": [
    {
     "name": "stdout",
     "output_type": "stream",
     "text": [
      "[('a', 429), ('class', 362), ('li', 322), ('href', 222), ('title', 151), ('span', 144), ('2', 143), ('tier', 134), ('element', 132), ('role', 130), ('treeitem', 113), ('div', 98), ('Python', 87), ('python', 83), ('org', 64), ('1', 56), ('ul', 56), ('3', 52), ('p', 48), ('https', 42), ('http', 40), ('aria', 39), ('true', 37), ('menu', 37), ('code', 36)]\n"
     ]
    }
   ],
   "source": [
    "import operator\n",
    "freq_dis={}\n",
    "for tok in tokens:\n",
    "    if tok in freq_dis:\n",
    "        freq_dis[tok]+=1\n",
    "    else:\n",
    "        freq_dis[tok]=1\n",
    "# We want to sort this dictionary on values ( freq in this case )\n",
    "sorted_freq_dist= sorted(freq_dis.items(), key=operator.itemgetter(1), reverse=True)\n",
    "# Print the top 25 most frequen terms\n",
    "print(sorted_freq_dist[:25])  "
   ]
  },
  {
   "cell_type": "markdown",
   "metadata": {},
   "source": [
    "I still see HTML and Javascript tags here."
   ]
  },
  {
   "cell_type": "markdown",
   "metadata": {},
   "source": [
    "## 6. Specialized HTML cleaners\n",
    "The function below was included in older versions of NLTK. Now, NLTK's advice is to use BS4, as we did. However, the best result comes with their old function. See below. "
   ]
  },
  {
   "cell_type": "code",
   "execution_count": 33,
   "metadata": {},
   "outputs": [],
   "source": [
    "def clean_html(html):\n",
    "    \"\"\"\n",
    "    Copied from NLTK package.\n",
    "    Remove HTML markup from the given string.\n",
    "\n",
    "    :param html: the HTML string to be cleaned\n",
    "    :type html: str\n",
    "    :rtype: str\n",
    "    \"\"\"\n",
    "\n",
    "    # First we remove inline JavaScript/CSS:\n",
    "    cleaned = re.sub(r\"(?is)<(script|style).*?>.*?(</\\1>)\", \"\", html.strip())\n",
    "    # Then we remove html comments. This has to be done before removing regular\n",
    "    # tags since comments can contain '>' characters.\n",
    "    cleaned = re.sub(r\"(?s)<!--(.*?)-->[\\n]?\", \"\", cleaned)\n",
    "    # Next we can remove the remaining tags:\n",
    "    cleaned = re.sub(r\"(?s)<.*?>\", \" \", cleaned)\n",
    "    # Finally, we deal with whitespace\n",
    "    cleaned = re.sub(r\"&nbsp;\", \" \", cleaned)\n",
    "    cleaned = re.sub(r\"  \", \" \", cleaned)\n",
    "    cleaned = re.sub(r\"  \", \" \", cleaned)\n",
    "    return cleaned.strip()\n"
   ]
  },
  {
   "cell_type": "markdown",
   "metadata": {},
   "source": [
    "Here I clean the raw html with the specialized cleaner. Note that I use the simplest tokenizer, split()."
   ]
  },
  {
   "cell_type": "code",
   "execution_count": 34,
   "metadata": {},
   "outputs": [
    {
     "name": "stdout",
     "output_type": "stream",
     "text": [
      "['Welcome', 'to', 'Python.org', 'Notice:', 'While', 'Javascript', 'is', 'not', 'essential', 'for', 'this', 'website,', 'your', 'interaction', 'with', 'the', 'content', 'will', 'be', 'limited.', 'Please', 'turn', 'Javascript', 'on', 'for', 'the', 'full', 'experience.', 'Skip', 'to', 'content', '&#9660;', 'Close', 'Python', 'PSF', 'Docs', 'PyPI', 'Jobs', 'Community', '&#9650;', 'The', 'Python', 'Network', 'Donate', '&equiv;', 'Menu', 'Search', 'This', 'Site', 'GO', 'A', 'A', 'Smaller', 'Larger', 'Reset', 'Socialize', 'Facebook', 'Twitter', 'Chat', 'on', 'IRC', 'About', 'Applications', 'Quotes', 'Getting', 'Started', 'Help', 'Python', 'Brochure', 'Downloads', 'All', 'releases', 'Source', 'code', 'Windows', 'Mac', 'OS', 'X', 'Other', 'Platforms', 'License', 'Alternative', 'Implementations', 'Documentation', 'Docs', 'Audio/Visual', 'Talks', 'Beginner&#39;s', 'Guide', 'Developer&#39;s', 'Guide', 'FAQ', 'Non-English', 'Docs', 'PEP', 'Index', 'Python', 'Books', 'Python', 'Essays']\n"
     ]
    }
   ],
   "source": [
    "clean = clean_html(html)\n",
    "tokens = [tok for tok in clean.split()]\n",
    "print(tokens[:100])"
   ]
  },
  {
   "cell_type": "markdown",
   "metadata": {},
   "source": [
    "And this looks way better. I don't see too much noise. Let's calculate and print the frequency."
   ]
  },
  {
   "cell_type": "markdown",
   "metadata": {},
   "source": [
    "## 6.A. NLTK Tokenizer\n",
    "Another tokenizer is NLTK tokenizer. It does a better job in distinguishing words and punctuation, for example."
   ]
  },
  {
   "cell_type": "code",
   "execution_count": 35,
   "metadata": {},
   "outputs": [
    {
     "name": "stdout",
     "output_type": "stream",
     "text": [
      "['Welcome', 'to', 'Python.org', 'Notice', ':', 'While', 'Javascript', 'is', 'not', 'essential', 'for', 'this', 'website', ',', 'your', 'interaction', 'with', 'the', 'content', 'will', 'be', 'limited', '.', 'Please', 'turn', 'Javascript', 'on', 'for', 'the', 'full', 'experience', '.', 'Skip', 'to', 'content', '&', '#', '9660', ';', 'Close', 'Python', 'PSF', 'Docs', 'PyPI', 'Jobs', 'Community', '&', '#', '9650', ';', 'The', 'Python', 'Network', 'Donate', '&', 'equiv', ';', 'Menu', 'Search', 'This', 'Site', 'GO', 'A', 'A', 'Smaller', 'Larger', 'Reset', 'Socialize', 'Facebook', 'Twitter', 'Chat', 'on', 'IRC', 'About', 'Applications', 'Quotes', 'Getting', 'Started', 'Help', 'Python', 'Brochure', 'Downloads', 'All', 'releases', 'Source', 'code', 'Windows', 'Mac', 'OS', 'X', 'Other', 'Platforms', 'License', 'Alternative', 'Implementations', 'Documentation', 'Docs', 'Audio/Visual', 'Talks', 'Beginner']\n"
     ]
    }
   ],
   "source": [
    "import nltk\n",
    "clean = clean_html(html)\n",
    "tokens = nltk.word_tokenize(clean)\n",
    "print(tokens[:100])"
   ]
  },
  {
   "cell_type": "markdown",
   "metadata": {},
   "source": [
    "### Frequency "
   ]
  },
  {
   "cell_type": "code",
   "execution_count": 36,
   "metadata": {},
   "outputs": [
    {
     "name": "stdout",
     "output_type": "stream",
     "text": [
      "[('>', 66), (',', 63), ('Python', 59), (';', 27), ('&', 26), ('and', 23), ('(', 22), (')', 22), ('.', 21), (':', 19), ('#', 18), ('the', 17), ('to', 15), ('of', 14), (\"'\", 14), ('for', 13), ('3', 13), ('is', 12), ('News', 11), ('Events', 11), ('a', 11), ('2020-', 10), ('with', 9), ('PSF', 9), ('Community', 9)]\n"
     ]
    }
   ],
   "source": [
    "import operator\n",
    "freq_dis={}\n",
    "for tok in tokens:\n",
    "    if tok in freq_dis:\n",
    "        freq_dis[tok]+=1\n",
    "    else:\n",
    "        freq_dis[tok]=1\n",
    "# We want to sort this dictionary on values ( freq in this case )\n",
    "sorted_freq_dist= sorted(freq_dis.items(), key=operator.itemgetter(1), reverse=True)\n",
    "print(sorted_freq_dist[:25])"
   ]
  },
  {
   "cell_type": "markdown",
   "metadata": {},
   "source": [
    "Now this result makes sense. The most common term is 'Python', that makes sense for the Python.org webpage.  Notice that the second term is a stop-word, 'and'. We need to take care of that later."
   ]
  },
  {
   "cell_type": "markdown",
   "metadata": {},
   "source": [
    "## 7. NLTK   freq_dist()"
   ]
  },
  {
   "cell_type": "code",
   "execution_count": 37,
   "metadata": {},
   "outputs": [
    {
     "name": "stdout",
     "output_type": "stream",
     "text": [
      "<FreqDist with 521 samples and 1347 outcomes>\n",
      "Welcome:1\n",
      "to:15\n",
      "Python.org:1\n",
      "Notice:1\n",
      "::19\n",
      "While:1\n",
      "Javascript:2\n",
      "is:12\n",
      "not:1\n",
      "essential:1\n",
      "for:13\n",
      "this:1\n",
      "website:1\n",
      ",:63\n",
      "your:4\n"
     ]
    }
   ],
   "source": [
    "# We can use the NLTK.freq_dist \n",
    "import nltk\n",
    "Freq_dist_nltk=nltk.FreqDist(tokens)\n",
    "print(Freq_dist_nltk)\n",
    "i = 0\n",
    "for k,v in Freq_dist_nltk.items():\n",
    "    print(str(k)+':'+str(v))\n",
    "    i += 1\n",
    "    if i==15: break"
   ]
  },
  {
   "cell_type": "code",
   "execution_count": 38,
   "metadata": {},
   "outputs": [
    {
     "data": {
      "image/png": "[encoded data removed]",
      "text/plain": [
       "<Figure size 432x288 with 1 Axes>"
      ]
     },
     "metadata": {
      "needs_background": "light"
     },
     "output_type": "display_data"
    },
    {
     "data": {
      "text/plain": [
       "<matplotlib.axes._subplots.AxesSubplot at 0x1d350b0e8c8>"
      ]
     },
     "execution_count": 38,
     "metadata": {},
     "output_type": "execute_result"
    }
   ],
   "source": [
    "# The coolest part is that NLTK offers a frequency plot\n",
    "Freq_dist_nltk.plot(50, cumulative=False)"
   ]
  },
  {
   "cell_type": "markdown",
   "metadata": {},
   "source": [
    "## 8. Stop Words"
   ]
  },
  {
   "cell_type": "code",
   "execution_count": 39,
   "metadata": {},
   "outputs": [
    {
     "name": "stdout",
     "output_type": "stream",
     "text": [
      "179\n",
      "{'i', 's', 'other', \"doesn't\", 'through', 've', 'theirs', 'am', 'won', 'hadn', 'him', 'below', 'both', 'those', 'weren', 'up', 'not', 'about', 'then', 'out', 'been', 'and', 'such', 'these', 'what', 'few', 't', 'being', 'if', 'after', 'there', \"hasn't\", 'are', 'of', 'will', 'whom', 'because', 'y', \"that'll\", 'a', \"wouldn't\", 'only', 'it', 'with', 'own', \"haven't\", 'can', 'he', 'wouldn', 'while', 'yourself', 'was', 'wasn', 'hasn', 'aren', 'more', \"shouldn't\", 'shouldn', 'is', 'than', \"you've\", 'but', 'does', 'its', 'she', 'm', 'as', 'against', 'ourselves', 'were', 'we', \"couldn't\", \"mustn't\", \"needn't\", 'have', 'didn', 'this', \"don't\", 'myself', 'you', 'having', 'doesn', 'most', \"wasn't\", 'has', 'had', 're', 'yourselves', \"you'd\", 'into', 'so', 'd', 'couldn', \"won't\", 'an', 'above', 'over', 'again', 'o', 'when', 'on', 'should', \"she's\", 'during', 'did', 'now', 'very', 'ma', \"it's\", 'hers', 'further', \"mightn't\", 'doing', 'be', 'll', 'her', 'all', 'that', \"didn't\", 'just', 'their', 'for', 'until', 'isn', 'between', 'here', 'itself', 'themselves', 'who', 'where', 'our', 'before', 'no', 'yours', 'mightn', \"hadn't\", 'ours', 'do', 'from', 'in', 'they', 'them', 'shan', 'why', 'once', 'nor', 'to', 'his', \"isn't\", 'the', 'some', \"weren't\", 'down', 'me', 'don', 'or', 'which', 'my', 'any', \"you'll\", 'same', 'needn', 'by', 'ain', 'mustn', 'at', 'haven', \"you're\", 'under', 'off', 'how', 'herself', \"aren't\", \"should've\", 'your', 'himself', 'each', \"shan't\", 'too'}\n"
     ]
    }
   ],
   "source": [
    "# Get the list of Stop-words from NLTK\n",
    "from nltk.corpus import stopwords\n",
    "stopWords = set(stopwords.words('english'))\n",
    "print(len(stopWords))\n",
    "print(stopWords)"
   ]
  },
  {
   "cell_type": "markdown",
   "metadata": {},
   "source": [
    "## 9. Remove stopwords"
   ]
  },
  {
   "cell_type": "code",
   "execution_count": 40,
   "metadata": {},
   "outputs": [],
   "source": [
    "# simple list comprehension to remove the stopwords from my list of tokens\n",
    "clean_tokens=[tok for tok in tokens if len(tok.lower())>1 and (tok.lower() not in stopWords)]"
   ]
  },
  {
   "cell_type": "code",
   "execution_count": 41,
   "metadata": {},
   "outputs": [
    {
     "name": "stdout",
     "output_type": "stream",
     "text": [
      "[('Python', 59), ('News', 11), ('Events', 11), ('2020-', 10), ('PSF', 9), ('Community', 9), ('Software', 8), ('gt', 7), ('Docs', 6), ('Guide', 6), ('print', 6), ('product', 6), ('2020', 6), ('39', 5), ('Development', 5), ('Group', 5), ('Foundation', 5), ('Lists', 4), ('User', 4), ('Archive', 4), ('programming', 4), ('functions', 4), ('name', 4), ('9650', 3), ('IRC', 3)]\n"
     ]
    }
   ],
   "source": [
    "# Let's print the 25 most frequent terms\n",
    "import operator\n",
    "freq_dis={}\n",
    "for tok in clean_tokens:\n",
    "    if tok in freq_dis:\n",
    "        freq_dis[tok]+=1\n",
    "    else:\n",
    "        freq_dis[tok]=1\n",
    "# We want to sort this dictionary on values ( freq in this case )\n",
    "sorted_freq_dist= sorted(freq_dis.items(), key=operator.itemgetter(1), reverse=True)\n",
    "print(sorted_freq_dist[:25])"
   ]
  },
  {
   "cell_type": "markdown",
   "metadata": {},
   "source": [
    "It looks good. The noise is at the minimum.   \n",
    "In any case, you can append any **noisy term** to the stopwords list and filter again."
   ]
  },
  {
   "cell_type": "code",
   "execution_count": 42,
   "metadata": {},
   "outputs": [
    {
     "data": {
      "image/png": "[encoded data removed]",
      "text/plain": [
       "<Figure size 432x288 with 1 Axes>"
      ]
     },
     "metadata": {
      "needs_background": "light"
     },
     "output_type": "display_data"
    },
    {
     "data": {
      "text/plain": [
       "<matplotlib.axes._subplots.AxesSubplot at 0x1d3508d8d08>"
      ]
     },
     "execution_count": 42,
     "metadata": {},
     "output_type": "execute_result"
    }
   ],
   "source": [
    "# Let's plot again\n",
    "Freq_dist_nltk=nltk.FreqDist(clean_tokens)\n",
    "Freq_dist_nltk.plot(50, cumulative=False)"
   ]
  },
  {
   "cell_type": "markdown",
   "metadata": {},
   "source": [
    "# 10.  Full Code of the \"Best\" Outcome\n",
    "Remember that \"best\" depends upon your data. Sometimes you need more cleaning, sometimes less."
   ]
  },
  {
   "cell_type": "code",
   "execution_count": null,
   "metadata": {},
   "outputs": [],
   "source": [
    "# Step 1 - Get the Data\n",
    "import urllib\n",
    "html = urllib.request.urlopen('http://python.org/').read().decode('utf-8')\n",
    "\n",
    "# Step 2 - Clean the Data from HTML Tags\n",
    "def clean_html(html):\n",
    "    \"\"\"\n",
    "    Copied from NLTK package.\n",
    "    Remove HTML markup from the given string.\n",
    "\n",
    "    :param html: the HTML string to be cleaned\n",
    "    :type html: str\n",
    "    :rtype: str\n",
    "    \"\"\"\n",
    "\n",
    "    # First we remove inline JavaScript/CSS:\n",
    "    cleaned = re.sub(r\"(?is)<(script|style).*?>.*?(</\\1>)\", \"\", html.strip())\n",
    "    # Then we remove html comments. This has to be done before removing regular\n",
    "    # tags since comments can contain '>' characters.\n",
    "    cleaned = re.sub(r\"(?s)<!--(.*?)-->[\\n]?\", \"\", cleaned)\n",
    "    # Next we can remove the remaining tags:\n",
    "    cleaned = re.sub(r\"(?s)<.*?>\", \" \", cleaned)\n",
    "    # Finally, we deal with whitespace\n",
    "    cleaned = re.sub(r\"&nbsp;\", \" \", cleaned)\n",
    "    cleaned = re.sub(r\"  \", \" \", cleaned)\n",
    "    cleaned = re.sub(r\"  \", \" \", cleaned)\n",
    "    return cleaned.strip()\n",
    "\n",
    "clean = clean_html(html)\n",
    "tokens = nltk.word_tokenize(clean)\n",
    "\n",
    "# Step 3 - Eliminate stopwords\n",
    "from nltk.corpus import stopwords\n",
    "stopWords = set(stopwords.words('english'))\n",
    "clean_tokens=[tok for tok in tokens if len(tok.lower())>1 and (tok.lower() not in stopWords)]\n",
    "\n",
    "# Step 4 - Frequency Calculation\n",
    "import operator\n",
    "freq_dis={}\n",
    "for tok in clean_tokens:\n",
    "    if tok in freq_dis:\n",
    "        freq_dis[tok]+=1\n",
    "    else:\n",
    "        freq_dis[tok]=1\n",
    "# We want to sort this dictionary on values ( freq in this case )\n",
    "sorted_freq_dist= sorted(freq_dis.items(), key=operator.itemgetter(1), reverse=True)\n",
    "print(sorted_freq_dist[:25])\n",
    "\n",
    "# Step 4 - Plot the frequency\n",
    "Freq_dist_nltk=nltk.FreqDist(clean_tokens)\n",
    "Freq_dist_nltk.plot(25, cumulative=False)"
   ]
  },
  {
   "cell_type": "code",
   "execution_count": null,
   "metadata": {},
   "outputs": [],
   "source": []
  }
 ],
 "metadata": {
  "kernelspec": {
   "display_name": "Python 3",
   "language": "python",
   "name": "python3"
  },
  "language_info": {
   "codemirror_mode": {
    "name": "ipython",
    "version": 3
   },
   "file_extension": ".py",
   "mimetype": "text/x-python",
   "name": "python",
   "nbconvert_exporter": "python",
   "pygments_lexer": "ipython3",
   "version": "3.7.6"
  },
  "varInspector": {
   "cols": {
    "lenName": 16,
    "lenType": 16,
    "lenVar": 40
   },
   "kernels_config": {
    "python": {
     "delete_cmd_postfix": "",
     "delete_cmd_prefix": "del ",
     "library": "var_list.py",
     "varRefreshCmd": "print(var_dic_list())"
    },
    "r": {
     "delete_cmd_postfix": ") ",
     "delete_cmd_prefix": "rm(",
     "library": "var_list.r",
     "varRefreshCmd": "cat(var_dic_list()) "
    }
   },
   "types_to_exclude": [
    "module",
    "function",
    "builtin_function_or_method",
    "instance",
    "_Feature"
   ],
   "window_display": false
  }
 },
 "nbformat": 4,
 "nbformat_minor": 4
}
