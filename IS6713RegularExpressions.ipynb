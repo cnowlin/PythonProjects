{
 "cells": [
  {
   "cell_type": "markdown",
   "metadata": {},
   "source": [
    "# Regular Expressions\n",
    "## Examples"
   ]
  },
  {
   "cell_type": "markdown",
   "metadata": {},
   "source": [
    "#### Example 1: Developing a regular expression Step by Step\n",
    "Start by a simple expression and add more options until you find what you're looking for."
   ]
  },
  {
   "cell_type": "code",
   "execution_count": 84,
   "metadata": {},
   "outputs": [
    {
     "data": {
      "text/plain": [
       "['The', 'the', 'the', 'the']"
      ]
     },
     "execution_count": 84,
     "metadata": {},
     "output_type": "execute_result"
    }
   ],
   "source": [
    "import re\n",
    "s = \"The theme is another cat in the hat\"\n",
    "\n",
    "# I want to find all the occurences of the word \"the\".\n",
    "# I use [Tt] to match both upper case and lower case\n",
    "re.findall(r\"[tT]he\", s)"
   ]
  },
  {
   "cell_type": "markdown",
   "metadata": {},
   "source": [
    "There are too many results here. Re.findall() finds the two \"the\" i was looking for, but also it finds \"the\" in **the**me and ano**the**r.  I add the boundaries option **\\b** before and after to look only for \"the\" as a word."
   ]
  },
  {
   "cell_type": "code",
   "execution_count": 85,
   "metadata": {},
   "outputs": [
    {
     "data": {
      "text/plain": [
       "['The', 'the']"
      ]
     },
     "execution_count": 85,
     "metadata": {},
     "output_type": "execute_result"
    }
   ],
   "source": [
    "re.findall(r\"\\b[tT]he\\b\", s)"
   ]
  },
  {
   "cell_type": "markdown",
   "metadata": {},
   "source": [
    "This works. I find both \"the\" in my string.  \n",
    "What if I want to know which words contain the substring \"the\"? I add at least one non-whitespace **\\S+** to my expression to search for words containing \"the\"."
   ]
  },
  {
   "cell_type": "code",
   "execution_count": 86,
   "metadata": {},
   "outputs": [
    {
     "data": {
      "text/plain": [
       "['another']"
      ]
     },
     "execution_count": 86,
     "metadata": {},
     "output_type": "execute_result"
    }
   ],
   "source": [
    "re.findall(r\"\\S+[tT]he\\S+\", s)"
   ]
  },
  {
   "cell_type": "markdown",
   "metadata": {},
   "source": [
    "I find \"other\" and not \"theme\". Why? Because I used \\S on both sides, but \"theme\" has non-white characters only on the right. I can add to \\S the zero-to-many option ***** on both sides"
   ]
  },
  {
   "cell_type": "code",
   "execution_count": 87,
   "metadata": {},
   "outputs": [
    {
     "data": {
      "text/plain": [
       "['The', 'theme', 'another', 'the']"
      ]
     },
     "execution_count": 87,
     "metadata": {},
     "output_type": "execute_result"
    }
   ],
   "source": [
    "re.findall(r\"\\S*[tT]he\\S*\", s)"
   ]
  },
  {
   "cell_type": "markdown",
   "metadata": {},
   "source": [
    "This was too much! Because the non-white spaces are optional, now findall() finds all the \"the\" in my string. I should use the zero-to-many option on one side first, and then on the other side."
   ]
  },
  {
   "cell_type": "code",
   "execution_count": 88,
   "metadata": {},
   "outputs": [
    {
     "name": "stdout",
     "output_type": "stream",
     "text": [
      "['another']\n",
      "['theme', 'another']\n"
     ]
    }
   ],
   "source": [
    "print(re.findall(r\"\\S+[tT]he\\S*\", s))\n",
    "print(re.findall(r\"\\S*[tT]he\\S+\", s))"
   ]
  },
  {
   "cell_type": "markdown",
   "metadata": {},
   "source": [
    "This is great, but I used two regular expressions. I use the disjunction operator | to tell re.findall() to search for two regular expressions in one shot. "
   ]
  },
  {
   "cell_type": "code",
   "execution_count": 89,
   "metadata": {},
   "outputs": [
    {
     "data": {
      "text/plain": [
       "['theme', 'another']"
      ]
     },
     "execution_count": 89,
     "metadata": {},
     "output_type": "execute_result"
    }
   ],
   "source": [
    "re.findall(r\"\\S+[tT]he\\S*|\\S*[tT]he\\S+\", s)\n"
   ]
  },
  {
   "cell_type": "markdown",
   "metadata": {},
   "source": [
    "That's it!"
   ]
  },
  {
   "cell_type": "markdown",
   "metadata": {},
   "source": [
    "## Useful examples of regular expressions"
   ]
  },
  {
   "cell_type": "markdown",
   "metadata": {},
   "source": [
    "### Example 1: find all the prices in the text."
   ]
  },
  {
   "cell_type": "code",
   "execution_count": 90,
   "metadata": {},
   "outputs": [],
   "source": [
    "import re\n",
    "text = \"Roku players start at $29.99 up to $79.9, and you enjoy 2 months of Philo, a value of $40.\""
   ]
  },
  {
   "cell_type": "code",
   "execution_count": 91,
   "metadata": {},
   "outputs": [
    {
     "name": "stdout",
     "output_type": "stream",
     "text": [
      "['$29.99', '$79.9', '$40']\n"
     ]
    }
   ],
   "source": [
    "# The expression is divided in two disjointed expressions:\n",
    "# The first looks for the dollar sign \\$, followed by one or more numbers [0-9]+, \n",
    "#    a decimal dot \\., and one or more numbers [0-9]+\n",
    "# The second looks for prices without decimals (dollar sign followed by one or more numbers) \\$[0-9]+\n",
    "print(re.findall(\"\\$[0-9]+\\.[0-9]+|\\$[0-9]+\", text))"
   ]
  },
  {
   "cell_type": "code",
   "execution_count": 92,
   "metadata": {},
   "outputs": [
    {
     "name": "stdout",
     "output_type": "stream",
     "text": [
      "['$29.99', '$79', '$40']\n"
     ]
    }
   ],
   "source": [
    "# Note that if I specify two decimals with \\.[0-9][0-9] I might miss some results.\n",
    "print(re.findall(\"\\$[0-9]+\\.[0-9][0-9]|\\$[0-9]+\", text))"
   ]
  },
  {
   "cell_type": "markdown",
   "metadata": {},
   "source": [
    "### Example 2: find all email addresses"
   ]
  },
  {
   "cell_type": "code",
   "execution_count": 93,
   "metadata": {},
   "outputs": [],
   "source": [
    "text = \"gianluca.zanella@utsa.edu;@classtopic:data foundations;here-again@anotheremail.biz.\""
   ]
  },
  {
   "cell_type": "code",
   "execution_count": 94,
   "metadata": {},
   "outputs": [
    {
     "data": {
      "text/plain": [
       "['gianluca.zanella@utsa.edu', 'here-again@anotheremail.biz.']"
      ]
     },
     "execution_count": 94,
     "metadata": {},
     "output_type": "execute_result"
    }
   ],
   "source": [
    "# First version (simple and will work for this class)\n",
    "# In some cases doesn't work very well. Notice that the second result is not a right address (has a dot)\n",
    "re.findall(r'[\\w.-]+@[\\w.-]+', text)"
   ]
  },
  {
   "cell_type": "code",
   "execution_count": 95,
   "metadata": {},
   "outputs": [
    {
     "data": {
      "text/plain": [
       "['gianluca.zanella@utsa.edu', 'here-again@anotheremail.biz']"
      ]
     },
     "execution_count": 95,
     "metadata": {},
     "output_type": "execute_result"
    }
   ],
   "source": [
    "# Second version that covers pretty much all the possible cases\n",
    "re.findall(r\"\\b[\\w.!#$%&’*+\\/=?^`{|}~-]+@[\\w-]+(?:\\.[\\w-]+)*\\b\", text)"
   ]
  },
  {
   "cell_type": "markdown",
   "metadata": {},
   "source": [
    "### Example 3: web sites URLs"
   ]
  },
  {
   "cell_type": "code",
   "execution_count": 2,
   "metadata": {},
   "outputs": [],
   "source": [
    "import regex as re\n",
    "text = \"Check more on the world wide web (www) at https://developers.google.com/edu/python/regular-expressions and http://www.debuggex.com/cheatsheet/regex/python\""
   ]
  },
  {
   "cell_type": "code",
   "execution_count": 97,
   "metadata": {},
   "outputs": [
    {
     "data": {
      "text/plain": [
       "['https://developers.google.com/edu/python/regular-expressions',\n",
       " 'http://www.debuggex.com/cheatsheet/regex/python']"
      ]
     },
     "execution_count": 97,
     "metadata": {},
     "output_type": "execute_result"
    }
   ],
   "source": [
    "# First version (simple and will work for this class)\n",
    "# In some cases doesn't work very well. Notice that the second result is not a right address (has a dot)\n",
    "re.findall(r\"http\\w?://[\\w_./-]+\", text)"
   ]
  },
  {
   "cell_type": "code",
   "execution_count": 98,
   "metadata": {},
   "outputs": [
    {
     "data": {
      "text/plain": [
       "['https://developers.google.com/edu/python/regular-expressions',\n",
       " 'http://www.debuggex.com/cheatsheet/regex/python']"
      ]
     },
     "execution_count": 98,
     "metadata": {},
     "output_type": "execute_result"
    }
   ],
   "source": [
    "# Second version that covers pretty much all the possible cases\n",
    "re.findall(r\"http[s]?://(?:[a-zA-Z]|[0-9]|[$-_@.&+]|[!*\\(\\),]|(?:%[0-9a-fA-F][0-9a-fA-F]))+\", text)"
   ]
  },
  {
   "cell_type": "code",
   "execution_count": 3,
   "metadata": {},
   "outputs": [
    {
     "data": {
      "text/plain": [
       "['www.debuggex.com']"
      ]
     },
     "execution_count": 3,
     "metadata": {},
     "output_type": "execute_result"
    }
   ],
   "source": [
    "# Third version: A simple expression for URLs with WWW\n",
    "re.findall(r\"www\\.[a-z]+\\.[a-z]+\", text)"
   ]
  },
  {
   "cell_type": "code",
   "execution_count": 99,
   "metadata": {},
   "outputs": [
    {
     "data": {
      "text/plain": [
       "['https://developers.google.com/edu/python/regular-expressions',\n",
       " 'http://www.debuggex.com/cheatsheet/regex/python']"
      ]
     },
     "execution_count": 99,
     "metadata": {},
     "output_type": "execute_result"
    }
   ],
   "source": [
    "# Another version. Online you can find plenty of expressions for URLs.\n",
    "re.findall(r\"[localhost|http|https|ftp|file]+://[\\w\\S(\\.|:|/)]+\", text)"
   ]
  },
  {
   "cell_type": "markdown",
   "metadata": {},
   "source": [
    "### Example 4: match the entire string"
   ]
  },
  {
   "cell_type": "code",
   "execution_count": 100,
   "metadata": {},
   "outputs": [
    {
     "name": "stdout",
     "output_type": "stream",
     "text": [
      "['$29.9', '$79.9']\n"
     ]
    }
   ],
   "source": [
    "# Sometimes the regular expression returns only a portion of what we are looking for.\n",
    "# For example, I am looking for prices in this string. The expression asks for one decimal.\n",
    "# The first price is truncated ($29.9 instead of $29.99)\n",
    "import re\n",
    "text = \"Roku players start at $29.99 up to $79.9.\"\n",
    "print(re.findall(\"\\$[0-9]+\\.[0-9]\", text))"
   ]
  },
  {
   "cell_type": "code",
   "execution_count": 101,
   "metadata": {},
   "outputs": [
    {
     "name": "stdout",
     "output_type": "stream",
     "text": [
      "['$29.99', '$79.9']\n"
     ]
    }
   ],
   "source": [
    "# to match the entire price, I need to search for one or more decimals (with the +)\n",
    "print(re.findall(\"\\$[0-9]+\\.[0-9]+\", text))"
   ]
  },
  {
   "cell_type": "code",
   "execution_count": 102,
   "metadata": {},
   "outputs": [
    {
     "data": {
      "text/plain": [
       "['XY', 'X']"
      ]
     },
     "execution_count": 102,
     "metadata": {},
     "output_type": "execute_result"
    }
   ],
   "source": [
    "# Another example of matching the entire string\n",
    "import re\n",
    "# I have 4 sequences of chromosomes X and Y (_ in the sequence means missing data). \n",
    "# I need to check which sequences are entirely matched by the regular expression\n",
    "# Example\n",
    "sequence = 'XYX'\n",
    "regexpstr = r'XXX*YY*\\w*|XY+|XX*' \n",
    "re.findall(regexpstr, sequence)\n",
    "# In this case there is NO entire sequence matching because findall() results do not \n",
    "# include the original sequence."
   ]
  },
  {
   "cell_type": "code",
   "execution_count": 103,
   "metadata": {},
   "outputs": [
    {
     "name": "stdout",
     "output_type": "stream",
     "text": [
      "ENTIRE MATCHING.The sequence XXXYX_ is entirely matched by XXXYX_\n"
     ]
    }
   ],
   "source": [
    "# First sequence\n",
    "sequence = 'XXXYX_'\n",
    "rfind = re.findall(regexpstr, sequence)\n",
    "if not rfind:\n",
    "    print(\"No ENTIRE MATCHING. findall() did not find any matching pattern\")\n",
    "else:\n",
    "    if rfind[0] == sequence:\n",
    "        print(\"ENTIRE MATCHING.The sequence {} is entirely matched by {}\".format(sequence, rfind[0]))\n",
    "    else:\n",
    "        print(\"No ENTIRE MATCHING. The sequence {} is NOT entirely matched. Findall results in {}\".format(sequence, rfind[0]))"
   ]
  },
  {
   "cell_type": "code",
   "execution_count": 104,
   "metadata": {},
   "outputs": [
    {
     "name": "stdout",
     "output_type": "stream",
     "text": [
      "ENTIRE MATCHING.The sequence XXXYYX is entirely matched by XXXYYX\n"
     ]
    }
   ],
   "source": [
    "# Second sequence\n",
    "sequence = 'XXXYYX'\n",
    "rfind = re.findall(regexpstr, sequence)\n",
    "if not rfind:\n",
    "    print(\"No ENTIRE MATCHING. findall() did not find any matching pattern\")\n",
    "else:\n",
    "    if rfind[0] == sequence:\n",
    "        print(\"ENTIRE MATCHING.The sequence {} is entirely matched by {}\".format(sequence, rfind[0]))\n",
    "    else:\n",
    "        print(\"No ENTIRE MATCHING. The sequence {} is NOT entirely matched. Findall results in {}\".format(sequence, rfind[0]))"
   ]
  },
  {
   "cell_type": "code",
   "execution_count": 105,
   "metadata": {},
   "outputs": [
    {
     "name": "stdout",
     "output_type": "stream",
     "text": [
      "ENTIRE MATCHING.The sequence XXX is entirely matched by XXX\n"
     ]
    }
   ],
   "source": [
    "# Third sequence\n",
    "sequence = 'XXX'\n",
    "rfind = re.findall(regexpstr, sequence)\n",
    "if not rfind:\n",
    "    print(\"No ENTIRE MATCHING. findall() did not find any matching pattern\")\n",
    "else:\n",
    "    if rfind[0] == sequence:\n",
    "        print(\"ENTIRE MATCHING.The sequence {} is entirely matched by {}\".format(sequence, rfind[0]))\n",
    "    else:\n",
    "        print(\"No ENTIRE MATCHING. The sequence {} is NOT entirely matched. Findall results in {}\".format(sequence, rfind[0]))"
   ]
  },
  {
   "cell_type": "code",
   "execution_count": 106,
   "metadata": {},
   "outputs": [
    {
     "name": "stdout",
     "output_type": "stream",
     "text": [
      "No ENTIRE MATCHING. The sequence YYYXXX is NOT entirely matched. Findall results in XXX\n"
     ]
    }
   ],
   "source": [
    "# Fourth sequence\n",
    "sequence = 'YYYXXX'\n",
    "rfind = re.findall(regexpstr, sequence)\n",
    "if not rfind:\n",
    "    print(\"No ENTIRE MATCHING. findall() did not find any matching pattern\")\n",
    "else:\n",
    "    if rfind[0] == sequence:\n",
    "        print(\"ENTIRE MATCHING.The sequence {} is entirely matched by {}\".format(sequence, rfind[0]))\n",
    "    else:\n",
    "        print(\"No ENTIRE MATCHING. The sequence {} is NOT entirely matched. Findall results in {}\".format(sequence, rfind[0]))"
   ]
  },
  {
   "cell_type": "code",
   "execution_count": 107,
   "metadata": {},
   "outputs": [
    {
     "name": "stdout",
     "output_type": "stream",
     "text": [
      "No ENTIRE MATCHING. findall() did not find any matching pattern\n"
     ]
    }
   ],
   "source": [
    "sequence = 'YYY'\n",
    "rfind = re.findall(regexpstr, sequence)\n",
    "if not rfind:\n",
    "    print(\"No ENTIRE MATCHING. findall() did not find any matching pattern\")\n",
    "else:\n",
    "    if rfind[0] == sequence:\n",
    "        print(\"ENTIRE MATCHING.The sequence {} is entirely matched by {}\".format(sequence, rfind[0]))\n",
    "    else:\n",
    "        print(\"No ENTIRE MATCHING. The sequence {} is NOT entirely matched. Findall results in {}\".format(sequence, rfind[0]))"
   ]
  },
  {
   "cell_type": "code",
   "execution_count": 108,
   "metadata": {},
   "outputs": [
    {
     "name": "stdout",
     "output_type": "stream",
     "text": [
      "ENTIRE MATCHING.The sequence XXXYX_ is entirely matched by XXXYX_\n"
     ]
    }
   ],
   "source": [
    "sequence = 'XXXYX_'\n",
    "rfind = re.findall(regexpstr, sequence)\n",
    "if not rfind:\n",
    "    print(\"No ENTIRE MATCHING. findall() did not find any matching pattern\")\n",
    "else:\n",
    "    if rfind[0] == sequence:\n",
    "        print(\"ENTIRE MATCHING.The sequence {} is entirely matched by {}\".format(sequence, rfind[0]))\n",
    "    else:\n",
    "        print(\"No ENTIRE MATCHING. The sequence {} is NOT entirely matched. Findall results in {}\".format(sequence, rfind[0]))"
   ]
  }
 ],
 "metadata": {
  "kernelspec": {
   "display_name": "Python 3",
   "language": "python",
   "name": "python3"
  },
  "language_info": {
   "codemirror_mode": {
    "name": "ipython",
    "version": 3
   },
   "file_extension": ".py",
   "mimetype": "text/x-python",
   "name": "python",
   "nbconvert_exporter": "python",
   "pygments_lexer": "ipython3",
   "version": "3.7.6"
  },
  "varInspector": {
   "cols": {
    "lenName": 16,
    "lenType": 16,
    "lenVar": 40
   },
   "kernels_config": {
    "python": {
     "delete_cmd_postfix": "",
     "delete_cmd_prefix": "del ",
     "library": "var_list.py",
     "varRefreshCmd": "print(var_dic_list())"
    },
    "r": {
     "delete_cmd_postfix": ") ",
     "delete_cmd_prefix": "rm(",
     "library": "var_list.r",
     "varRefreshCmd": "cat(var_dic_list()) "
    }
   },
   "types_to_exclude": [
    "module",
    "function",
    "builtin_function_or_method",
    "instance",
    "_Feature"
   ],
   "window_display": false
  }
 },
 "nbformat": 4,
 "nbformat_minor": 4
}
