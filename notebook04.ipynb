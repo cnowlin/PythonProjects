{
 "cells": [
  {
   "cell_type": "markdown",
   "metadata": {},
   "source": [
    "# Notebook 04\n",
    "### IS6713 - Summer 2020  \n",
    "\n",
    "Instructions:\n",
    "1. Add the lines of code required to obtain the requested output.\n",
    "\n",
    "2. The code should be inserted where requested   \n",
    "   \n",
    "3. Do not modify other parts of this notebook.  \n",
    "  \n",
    "4. Remember to write in your name and abc123 in the first cell of this notebook.\n",
    "  \n",
    "5. Upload the notebook on Blackboard before the deadline!\n",
    "\n",
    " * Name: Chelsea L. Nowlin \n",
    " * abc123: voi967\n",
    "__________________________________________________________"
   ]
  },
  {
   "cell_type": "markdown",
   "metadata": {},
   "source": [
    "## Exercise 1\n",
    "\n",
    "Write code that reads the file line-by-line numbers.txt, then does the following:\n",
    "\n",
    "- Sum all the numbers in numbers.txt, then prints the numbers to the screen.\n",
    "\n",
    "Next, append the string \"SUM: k\", where k is the calculated sum. to the end of numbers.txt as a new line.\n",
    "\n",
    "Finally, print the entire file to make sure you appended to the file correctly.\n",
    "\n",
    "The absolute path for the file is \"../numbers.txt\"\n",
    "\n",
    "**Important Python concepts:** for, open ('a' and 'r'), write(), print()"
   ]
  },
  {
   "cell_type": "code",
   "execution_count": null,
   "metadata": {},
   "outputs": [],
   "source": [
    "# If you mess up the file and need to try again, run this cell\n",
    "with open('numbers.txt', 'w') as in_file:\n",
    "    in_file.write('42\\n18\\n22\\n18')\n",
    "with open(\"numbers.txt\") as iFile:\n",
    "    print(iFile.read())"
   ]
  },
  {
   "cell_type": "code",
   "execution_count": 41,
   "metadata": {},
   "outputs": [
    {
     "name": "stdout",
     "output_type": "stream",
     "text": [
      "42\n",
      "18\n",
      "22\n",
      "18\n"
     ]
    }
   ],
   "source": [
    "# Write code to calculate sum here\n",
    "toread = open('numbers.txt', 'r')\n",
    "total = 0\n",
    "for line in toread:\n",
    "    print(line.strip())\n",
    "    num = float(line)\n",
    "    total += num\n"
   ]
  },
  {
   "cell_type": "code",
   "execution_count": 48,
   "metadata": {},
   "outputs": [
    {
     "name": "stdout",
     "output_type": "stream",
     "text": [
      "SUM: 100.0\n",
      "\n"
     ]
    }
   ],
   "source": [
    "# Print sum here   \n",
    "print(\"SUM: {}\".format(total))\n",
    "toread.close()"
   ]
  },
  {
   "cell_type": "code",
   "execution_count": 51,
   "metadata": {},
   "outputs": [],
   "source": [
    "# Write code to append to file here\n",
    "towrite = open('numbers.txt', 'a')\n",
    "line = \"SUM: {}\".format(total)\n",
    "towrite.write(line)\n",
    "towrite.close()\n"
   ]
  },
  {
   "cell_type": "markdown",
   "metadata": {},
   "source": [
    "Run the line below to check your work"
   ]
  },
  {
   "cell_type": "code",
   "execution_count": 1,
   "metadata": {},
   "outputs": [
    {
     "name": "stdout",
     "output_type": "stream",
     "text": [
      "42\n",
      "18\n",
      "22\n",
      "18\n",
      "SUM: 100.0\n"
     ]
    }
   ],
   "source": [
    "with open(\"numbers.txt\") as iFile:\n",
    "    print(iFile.read())"
   ]
  },
  {
   "cell_type": "markdown",
   "metadata": {},
   "source": [
    "## Exercise 2\n",
    "\n",
    "Write code that reads the csv file \"housing_prices.csv\" and calculate/print the following:\n",
    "- Calculate and print the sum of all house prices. Do not use the sum() method\n",
    "- Calculate and print the average price. Do not use any external packages.\n",
    "- Calculate and print the max price (all prices are > 0). Do not use the max() method.\n",
    "- Print the name of the street that contains the house with the most expensive house.\n",
    "\n",
    "The path for the file is \"../house_prices.csv\".\n",
    "\n",
    "**Important Python concepts:** for, lists, open ('r'), if (>)\n",
    "\n",
    "Run the cell below to view the \"house_prices.csv\" file."
   ]
  },
  {
   "cell_type": "code",
   "execution_count": null,
   "metadata": {},
   "outputs": [],
   "source": [
    "with open(\"house_prices.csv\") as iFile:\n",
    "    print(iFile.read())"
   ]
  },
  {
   "cell_type": "code",
   "execution_count": 14,
   "metadata": {},
   "outputs": [
    {
     "name": "stdout",
     "output_type": "stream",
     "text": [
      "price\n",
      "10000\n",
      "15000\n",
      "20000\n",
      "0\n"
     ]
    }
   ],
   "source": [
    "import csv\n",
    "# Write code here\n",
    "myFile = open('house_prices.csv')\n",
    "myCSV = csv.reader(myFile, delimiter=',')\n",
    "\n",
    "total = 0\n",
    "count = 0\n",
    "for line in myCSV:\n",
    "    print(line[2])\n",
    "    \n",
    "print(total)\n",
    "    \n",
    "    "
   ]
  },
  {
   "cell_type": "code",
   "execution_count": null,
   "metadata": {},
   "outputs": [],
   "source": []
  },
  {
   "cell_type": "code",
   "execution_count": null,
   "metadata": {},
   "outputs": [],
   "source": []
  },
  {
   "cell_type": "markdown",
   "metadata": {},
   "source": [
    "## Exercise 3\n",
    "\n",
    "Given the following list of lists\n",
    "\n",
    "myData = [['name','department','birthday month'], ['JohnDoe','Marketing','November'],['Jane Smith', 'IT', 'March']]\n",
    "\n",
    "create a csv file that is delimited with the tab ('\\t') character using the csv.writer() method. Name the file \"employee_birthday.csv\"."
   ]
  },
  {
   "cell_type": "code",
   "execution_count": 2,
   "metadata": {},
   "outputs": [],
   "source": [
    "myData = [['name','department','birthday month'], ['John Doe','Marketing','November'],['Jane Smith', 'IT', 'March']]\n"
   ]
  },
  {
   "cell_type": "code",
   "execution_count": 17,
   "metadata": {},
   "outputs": [
    {
     "name": "stdout",
     "output_type": "stream",
     "text": [
      "['birthday month']\n",
      "['November']\n",
      "['March']\n"
     ]
    }
   ],
   "source": [
    "# write code to write the list of lists above to the CSV file \"employee_birthday.csv\"\n",
    "import csv\n",
    "with open('employee_birthday.csv', 'w', newline='') as f: \n",
    "    myCSV = csv.writer(f, delimiter='\\t')\n",
    "    myCSV.writerows(myData)\n",
    "for line in myData:\n",
    "    print(line[2:])\n",
    "myFile.close()"
   ]
  },
  {
   "cell_type": "markdown",
   "metadata": {},
   "source": [
    "Run the line below to check your work:"
   ]
  },
  {
   "cell_type": "code",
   "execution_count": 18,
   "metadata": {},
   "outputs": [
    {
     "name": "stdout",
     "output_type": "stream",
     "text": [
      "name\tdepartment\tbirthday month\n",
      "John Doe\tMarketing\tNovember\n",
      "Jane Smith\tIT\tMarch\n",
      "\n"
     ]
    }
   ],
   "source": [
    "with open(\"employee_birthday.csv\", \"r\") as inFile:\n",
    "    print(inFile.read())"
   ]
  },
  {
   "cell_type": "markdown",
   "metadata": {},
   "source": [
    "## Exercise 4\n",
    "\n",
    "A garden center has an XML (plant_catalog.xml) file that stores information, including price, for all plants they sell. The store is having a sale where everything is 20% off. Write a program that that prints the plant \"COMMON\" name, the current price, and the new sale price. An example of what the output should look like is shown below:\n",
    "\n",
    "```\n",
    "Bloodroot $2.44 to $1.95\n",
    "Columbine $9.37 to $7.50\n",
    "Marsh Marigold $6.81 to $5.45\n",
    "...```\n",
    "        \n",
    "File absolute path: \"plant_catalog.xml\"\n",
    "**Hint:** You will need to use \"string indexing\"."
   ]
  },
  {
   "cell_type": "code",
   "execution_count": 32,
   "metadata": {},
   "outputs": [
    {
     "name": "stdout",
     "output_type": "stream",
     "text": [
      "<?xml version=\"1.0\" encoding=\"UTF-8\"?>\n",
      "<CATALOG>\n",
      "  <PLANT>\n",
      "    <COMMON>Bloodroot</COMMON>\n",
      "    <BOTANICAL>Sanguinaria canadensis</BOTANICAL>\n",
      "    <ZONE>4</ZONE>\n",
      "    <LIGHT>Mostly Shady</LIGHT>\n",
      "    <PRICE>$2.44</PRICE>\n",
      "    <AVAILABILITY>031599</AVAILABILITY>\n",
      "  </PLANT>\n",
      "  <PLANT>\n",
      "    <COMMON>Columbine</COMMON>\n",
      "    <BOTANICAL>Aquilegia canadensis</BOTANICAL>\n",
      "    <ZONE>3</ZONE>\n",
      "    <LIGHT>Mostly Shady</LIGHT>\n",
      "    <PRICE>$9.37</PRICE>\n",
      "    <AVAILABILITY>030699</AVAILABILITY>\n",
      "  </PLANT>\n",
      "  <PLANT>\n",
      "    <COMMON>Marsh Marigold</COMMON>\n",
      "    <BOTANICAL>Caltha palustris</BOTANICAL>\n",
      "    <ZONE>4</ZONE>\n",
      "    <LIGHT>Mostly Sunny</LIGHT>\n",
      "    <PRICE>$6.81</PRICE>\n",
      "    <AVAILABILITY>051799</AVAILABILITY>\n",
      "  </PLANT>\n",
      "\n"
     ]
    }
   ],
   "source": [
    "# Use this code to look at the structure of plant_catalog.xml\n",
    "# n = number of lines to show\n",
    "n = 26\n",
    "with open(\"plant_catalog.xml\") as myfile:\n",
    "    head = [next(myfile) for x in range(n)]\n",
    "print(''.join(head))"
   ]
  },
  {
   "cell_type": "code",
   "execution_count": 38,
   "metadata": {},
   "outputs": [
    {
     "ename": "AttributeError",
     "evalue": "'str' object has no attribute 'items'",
     "output_type": "error",
     "traceback": [
      "\u001b[1;31m---------------------------------------------------------------------------\u001b[0m",
      "\u001b[1;31mAttributeError\u001b[0m                            Traceback (most recent call last)",
      "\u001b[1;32m<ipython-input-38-72477f206c7e>\u001b[0m in \u001b[0;36m<module>\u001b[1;34m\u001b[0m\n\u001b[0;32m      5\u001b[0m \u001b[0mstuff\u001b[0m \u001b[1;33m=\u001b[0m \u001b[0mET\u001b[0m\u001b[1;33m.\u001b[0m\u001b[0mfromstring\u001b[0m\u001b[1;33m(\u001b[0m\u001b[0minput\u001b[0m\u001b[1;33m)\u001b[0m\u001b[1;33m\u001b[0m\u001b[1;33m\u001b[0m\u001b[0m\n\u001b[0;32m      6\u001b[0m \u001b[1;33m\u001b[0m\u001b[0m\n\u001b[1;32m----> 7\u001b[1;33m \u001b[0mlst\u001b[0m \u001b[1;33m=\u001b[0m \u001b[0mstuff\u001b[0m\u001b[1;33m.\u001b[0m\u001b[0mfindall\u001b[0m\u001b[1;33m(\u001b[0m\u001b[1;34m'common/common'\u001b[0m\u001b[1;33m,\u001b[0m \u001b[1;34m'price/price'\u001b[0m\u001b[1;33m)\u001b[0m\u001b[1;33m\u001b[0m\u001b[1;33m\u001b[0m\u001b[0m\n\u001b[0m\u001b[0;32m      8\u001b[0m \u001b[1;33m\u001b[0m\u001b[0m\n",
      "\u001b[1;32m~\\anaconda3\\lib\\xml\\etree\\ElementPath.py\u001b[0m in \u001b[0;36mfindall\u001b[1;34m(elem, path, namespaces)\u001b[0m\n\u001b[0;32m    311\u001b[0m \u001b[1;33m\u001b[0m\u001b[0m\n\u001b[0;32m    312\u001b[0m \u001b[1;32mdef\u001b[0m \u001b[0mfindall\u001b[0m\u001b[1;33m(\u001b[0m\u001b[0melem\u001b[0m\u001b[1;33m,\u001b[0m \u001b[0mpath\u001b[0m\u001b[1;33m,\u001b[0m \u001b[0mnamespaces\u001b[0m\u001b[1;33m=\u001b[0m\u001b[1;32mNone\u001b[0m\u001b[1;33m)\u001b[0m\u001b[1;33m:\u001b[0m\u001b[1;33m\u001b[0m\u001b[1;33m\u001b[0m\u001b[0m\n\u001b[1;32m--> 313\u001b[1;33m     \u001b[1;32mreturn\u001b[0m \u001b[0mlist\u001b[0m\u001b[1;33m(\u001b[0m\u001b[0miterfind\u001b[0m\u001b[1;33m(\u001b[0m\u001b[0melem\u001b[0m\u001b[1;33m,\u001b[0m \u001b[0mpath\u001b[0m\u001b[1;33m,\u001b[0m \u001b[0mnamespaces\u001b[0m\u001b[1;33m)\u001b[0m\u001b[1;33m)\u001b[0m\u001b[1;33m\u001b[0m\u001b[1;33m\u001b[0m\u001b[0m\n\u001b[0m\u001b[0;32m    314\u001b[0m \u001b[1;33m\u001b[0m\u001b[0m\n\u001b[0;32m    315\u001b[0m \u001b[1;31m##\u001b[0m\u001b[1;33m\u001b[0m\u001b[1;33m\u001b[0m\u001b[1;33m\u001b[0m\u001b[0m\n",
      "\u001b[1;32m~\\anaconda3\\lib\\xml\\etree\\ElementPath.py\u001b[0m in \u001b[0;36miterfind\u001b[1;34m(elem, path, namespaces)\u001b[0m\n\u001b[0;32m    266\u001b[0m     \u001b[1;31m# compile selector pattern\u001b[0m\u001b[1;33m\u001b[0m\u001b[1;33m\u001b[0m\u001b[1;33m\u001b[0m\u001b[0m\n\u001b[0;32m    267\u001b[0m     cache_key = (path, None if namespaces is None\n\u001b[1;32m--> 268\u001b[1;33m                             else tuple(sorted(namespaces.items())))\n\u001b[0m\u001b[0;32m    269\u001b[0m     \u001b[1;32mif\u001b[0m \u001b[0mpath\u001b[0m\u001b[1;33m[\u001b[0m\u001b[1;33m-\u001b[0m\u001b[1;36m1\u001b[0m\u001b[1;33m:\u001b[0m\u001b[1;33m]\u001b[0m \u001b[1;33m==\u001b[0m \u001b[1;34m\"/\"\u001b[0m\u001b[1;33m:\u001b[0m\u001b[1;33m\u001b[0m\u001b[1;33m\u001b[0m\u001b[0m\n\u001b[0;32m    270\u001b[0m         \u001b[0mpath\u001b[0m \u001b[1;33m=\u001b[0m \u001b[0mpath\u001b[0m \u001b[1;33m+\u001b[0m \u001b[1;34m\"*\"\u001b[0m \u001b[1;31m# implicit all (FIXME: keep this?)\u001b[0m\u001b[1;33m\u001b[0m\u001b[1;33m\u001b[0m\u001b[0m\n",
      "\u001b[1;31mAttributeError\u001b[0m: 'str' object has no attribute 'items'"
     ]
    }
   ],
   "source": [
    "# Write code here\n",
    "import xml.etree.cElementTree as ET\n",
    "to_open = open(\"plant_catalog.xml\")\n",
    "input = to_open.read()\n",
    "stuff = ET.fromstring(input)\n",
    "\n",
    "lst = stuff.findall('common/common', 'price/price')\n",
    "\n"
   ]
  },
  {
   "cell_type": "markdown",
   "metadata": {},
   "source": [
    "## Exercise 5\n",
    "\n",
    "Using the \"exampleJSON.json\" file, complete the following tasks:\n",
    "- Load the file into a python dictionary.\n",
    "- Change the email of item with the name \"Gianluca\" to \"gianluca.zanella@utsa.edu\"\n",
    "- Add a new person to the list with the name \"David\" and email \"david@fakeemail.edu\"\n",
    "- Save the new dictionary to a JSON file \"exampleJSON2.json\"\n",
    "\n",
    "File path: exampleJSON.json"
   ]
  },
  {
   "cell_type": "code",
   "execution_count": 48,
   "metadata": {},
   "outputs": [
    {
     "name": "stdout",
     "output_type": "stream",
     "text": [
      "[{\"name\": \"Gianluca\", \"email\": \"JohnLuke.utsa.edu\", \"age\": 102}, {\"name\": \"John\", \"email\": \"john@fake.edu\"}, {\"name\": \"Jane\", \"email\": \"jane@fake.edu\"}, {\"name\": \"David\", \"email\": \"abc@utsa.edu\"}]\n"
     ]
    }
   ],
   "source": [
    "import json\n",
    "with open(\"exampleJSON.json\") as iFile:\n",
    "    print(iFile.read())"
   ]
  },
  {
   "cell_type": "code",
   "execution_count": 69,
   "metadata": {},
   "outputs": [],
   "source": [
    "# Write code here\n",
    "import json\n",
    "data = [{\"name\": \"Gianluca\", \"email\": \"gianluca.zanella@utsa.edu\"}, {\"name\": \"David\", \"email\": \"david@fakeemail.edu\"}]\n",
    "myFile = open(\"exampleJSON2.json\", 'w')\n",
    "json.dump(data, myFile)\n",
    "myFile.close()"
   ]
  },
  {
   "cell_type": "markdown",
   "metadata": {},
   "source": [
    "Run the following cell to check your work"
   ]
  },
  {
   "cell_type": "code",
   "execution_count": 70,
   "metadata": {},
   "outputs": [
    {
     "name": "stdout",
     "output_type": "stream",
     "text": [
      "[{\"name\": \"Gianluca\", \"email\": \"gianluca.zanella@utsa.edu\"}, {\"name\": \"David\", \"email\": \"david@fakeemail.edu\"}]\n"
     ]
    }
   ],
   "source": [
    "# Run this cell to check your code\n",
    "with open(\"exampleJSON2.json\") as iFile:\n",
    "    print(iFile.read())"
   ]
  },
  {
   "cell_type": "markdown",
   "metadata": {},
   "source": [
    "## Exercise 6\n",
    "\n",
    "Write code to loop over the Twitter JSONL file \"twitter.jsonl\" and compute the following:\n",
    "- Count and print the total number of tweets.\n",
    "- Count and print the total number of users are in the dataset. Hint: row['user']['screen_name']\n",
    "- Print the screen name of the user who has the most tweets.\n",
    "\n",
    "**Tip:** Don't process the entire file right away, start by processing 1 to 2 lines.\n",
    "\n",
    "File path: \"twitter.jsonl\"\n",
    "\n",
    "**The file is very large. Can take a long time to open with any editor.**"
   ]
  },
  {
   "cell_type": "markdown",
   "metadata": {},
   "source": [
    "Run the next cell to view the first row line of the file"
   ]
  },
  {
   "cell_type": "code",
   "execution_count": 60,
   "metadata": {},
   "outputs": [
    {
     "name": "stdout",
     "output_type": "stream",
     "text": [
      "{\"truncated\": false, \"full_text\": \"Adam Cole Praises Kevin Owens + A Preview For Next Week\\u2019s ROH Broadcast https://t.co/uIV7TKHs9K\", \"in_reply_to_user_id\": null, \"source\": \"<a href=\\\"https://dlvrit.com/\\\" rel=\\\"nofollow\\\">dlvr.it</a>\", \"entities\": {\"user_mentions\": [], \"symbols\": [], \"urls\": [{\"display_url\": \"dlvr.it/M3sHSw\", \"url\": \"https://t.co/uIV7TKHs9K\", \"expanded_url\": \"http://dlvr.it/M3sHSw\", \"indices\": [72, 95]}], \"hashtags\": []}, \"in_reply_to_screen_name\": null, \"retweeted\": false, \"in_reply_to_status_id\": null, \"display_text_range\": [0, 95], \"id\": 766323071976247296, \"favorite_count\": 1, \"retweet_count\": 0, \"contributors\": null, \"geo\": null, \"id_str\": \"766323071976247296\", \"lang\": \"en\", \"is_quote_status\": false, \"user\": {\"profile_background_tile\": false, \"translator_type\": \"none\", \"location\": \"main; @Kan1shk3\", \"profile_background_color\": \"FFFFFF\", \"default_profile\": false, \"notifications\": false, \"following\": false, \"verified\": false, \"friends_count\": 15, \"entities\": {\"description\": {\"urls\": []}}, \"profile_text_color\": \"333333\", \"profile_use_background_image\": true, \"id\": 2231233110, \"profile_sidebar_fill_color\": \"DDEEF6\", \"is_translation_enabled\": false, \"profile_banner_url\": \"https://pbs.twimg.com/profile_banners/2231233110/1387622004\", \"utc_offset\": null, \"profile_sidebar_border_color\": \"FFFFFF\", \"listed_count\": 34, \"profile_image_url_https\": \"https://pbs.twimg.com/profile_images/414342229096808449/fYvzqXN7_normal.png\", \"description\": \"i sing my own rhythm.\", \"profile_background_image_url_https\": \"https://abs.twimg.com/images/themes/theme1/bg.png\", \"screen_name\": \"sheezy0\", \"follow_request_sent\": false, \"geo_enabled\": false, \"default_profile_image\": false, \"id_str\": \"2231233110\", \"name\": \"\", \"favourites_count\": 0, \"profile_image_url\": \"http://pbs.twimg.com/profile_images/414342229096808449/fYvzqXN7_normal.png\", \"lang\": \"en\", \"followers_count\": 76, \"profile_background_image_url\": \"http://abs.twimg.com/images/themes/theme1/bg.png\", \"is_translator\": false, \"profile_image_extensions_alt_text\": null, \"has_extended_profile\": false, \"protected\": false, \"contributors_enabled\": false, \"time_zone\": null, \"created_at\": \"Thu Dec 05 09:48:45 +0000 2013\", \"url\": null, \"profile_link_color\": \"08C2C2\", \"statuses_count\": 151093}, \"in_reply_to_user_id_str\": null, \"place\": null, \"coordinates\": null, \"possibly_sensitive\": false, \"in_reply_to_status_id_str\": null, \"favorited\": false, \"created_at\": \"Thu Aug 18 17:17:12 +0000 2016\"}\n"
     ]
    }
   ],
   "source": [
    "with open('twitter.jsonl') as iFile:\n",
    "    for row in iFile:\n",
    "        print(row.strip())\n",
    "        break"
   ]
  },
  {
   "cell_type": "code",
   "execution_count": 68,
   "metadata": {},
   "outputs": [
    {
     "name": "stdout",
     "output_type": "stream",
     "text": [
      "{\"truncated\": false, \"full_text\": \"Adam Cole Praises Kevin Owens + A Preview For Next Week\\u2019s ROH Broadcast https://t.co/uIV7TKHs9K\", \"in_reply_to_user_id\": null, \"source\": \"<a href=\\\"https://dlvrit.com/\\\" rel=\\\"nofollow\\\">dlvr.it</a>\", \"entities\": {\"user_mentions\": [], \"symbols\": [], \"urls\": [{\"display_url\": \"dlvr.it/M3sHSw\", \"url\": \"https://t.co/uIV7TKHs9K\", \"expanded_url\": \"http://dlvr.it/M3sHSw\", \"indices\": [72, 95]}], \"hashtags\": []}, \"in_reply_to_screen_name\": null, \"retweeted\": false, \"in_reply_to_status_id\": null, \"display_text_range\": [0, 95], \"id\": 766323071976247296, \"favorite_count\": 1, \"retweet_count\": 0, \"contributors\": null, \"geo\": null, \"id_str\": \"766323071976247296\", \"lang\": \"en\", \"is_quote_status\": false, \"user\": {\"profile_background_tile\": false, \"translator_type\": \"none\", \"location\": \"main; @Kan1shk3\", \"profile_background_color\": \"FFFFFF\", \"default_profile\": false, \"notifications\": false, \"following\": false, \"verified\": false, \"friends_count\": 15, \"entities\": {\"description\": {\"urls\": []}}, \"profile_text_color\": \"333333\", \"profile_use_background_image\": true, \"id\": 2231233110, \"profile_sidebar_fill_color\": \"DDEEF6\", \"is_translation_enabled\": false, \"profile_banner_url\": \"https://pbs.twimg.com/profile_banners/2231233110/1387622004\", \"utc_offset\": null, \"profile_sidebar_border_color\": \"FFFFFF\", \"listed_count\": 34, \"profile_image_url_https\": \"https://pbs.twimg.com/profile_images/414342229096808449/fYvzqXN7_normal.png\", \"description\": \"i sing my own rhythm.\", \"profile_background_image_url_https\": \"https://abs.twimg.com/images/themes/theme1/bg.png\", \"screen_name\": \"sheezy0\", \"follow_request_sent\": false, \"geo_enabled\": false, \"default_profile_image\": false, \"id_str\": \"2231233110\", \"name\": \"\", \"favourites_count\": 0, \"profile_image_url\": \"http://pbs.twimg.com/profile_images/414342229096808449/fYvzqXN7_normal.png\", \"lang\": \"en\", \"followers_count\": 76, \"profile_background_image_url\": \"http://abs.twimg.com/images/themes/theme1/bg.png\", \"is_translator\": false, \"profile_image_extensions_alt_text\": null, \"has_extended_profile\": false, \"protected\": false, \"contributors_enabled\": false, \"time_zone\": null, \"created_at\": \"Thu Dec 05 09:48:45 +0000 2013\", \"url\": null, \"profile_link_color\": \"08C2C2\", \"statuses_count\": 151093}, \"in_reply_to_user_id_str\": null, \"place\": null, \"coordinates\": null, \"possibly_sensitive\": false, \"in_reply_to_status_id_str\": null, \"favorited\": false, \"created_at\": \"Thu Aug 18 17:17:12 +0000 2016\"}\n"
     ]
    },
    {
     "ename": "TypeError",
     "evalue": "'_io.TextIOWrapper' object is not subscriptable",
     "output_type": "error",
     "traceback": [
      "\u001b[1;31m---------------------------------------------------------------------------\u001b[0m",
      "\u001b[1;31mTypeError\u001b[0m                                 Traceback (most recent call last)",
      "\u001b[1;32m<ipython-input-68-2d5a52f52e80>\u001b[0m in \u001b[0;36m<module>\u001b[1;34m\u001b[0m\n\u001b[0;32m      3\u001b[0m     \u001b[1;32mfor\u001b[0m \u001b[0mrow\u001b[0m \u001b[1;32min\u001b[0m \u001b[0miFile\u001b[0m\u001b[1;33m:\u001b[0m\u001b[1;33m\u001b[0m\u001b[1;33m\u001b[0m\u001b[0m\n\u001b[0;32m      4\u001b[0m         \u001b[0mprint\u001b[0m\u001b[1;33m(\u001b[0m\u001b[0mrow\u001b[0m\u001b[1;33m.\u001b[0m\u001b[0mstrip\u001b[0m\u001b[1;33m(\u001b[0m\u001b[1;33m)\u001b[0m\u001b[1;33m)\u001b[0m\u001b[1;33m\u001b[0m\u001b[1;33m\u001b[0m\u001b[0m\n\u001b[1;32m----> 5\u001b[1;33m         \u001b[0mprint\u001b[0m\u001b[1;33m(\u001b[0m\u001b[0miFile\u001b[0m\u001b[1;33m[\u001b[0m\u001b[1;34m'user'\u001b[0m\u001b[1;33m]\u001b[0m\u001b[1;33m[\u001b[0m\u001b[1;34m'screen_name'\u001b[0m\u001b[1;33m]\u001b[0m\u001b[1;33m)\u001b[0m\u001b[1;33m\u001b[0m\u001b[1;33m\u001b[0m\u001b[0m\n\u001b[0m\u001b[0;32m      6\u001b[0m         \u001b[1;32mbreak\u001b[0m\u001b[1;33m\u001b[0m\u001b[1;33m\u001b[0m\u001b[0m\n\u001b[0;32m      7\u001b[0m \u001b[1;33m\u001b[0m\u001b[0m\n",
      "\u001b[1;31mTypeError\u001b[0m: '_io.TextIOWrapper' object is not subscriptable"
     ]
    }
   ],
   "source": [
    "# Write your code here\n",
    "with open('twitter.jsonl') as iFile:\n",
    "    for row in iFile:\n",
    "        print(row.strip())\n",
    "        print(\"Name: {}\".format())\n",
    "        break\n",
    "\n",
    "#myFile = open('twitter.jsonl')\n",
    "#for line in myFile:\n",
    "#    lineData = json.loads(line.strip())\n",
    "    \n",
    "#print(\"Name: {}\".format(lineData[\"user\"]))\n",
    "#myFile.close()"
   ]
  },
  {
   "cell_type": "code",
   "execution_count": null,
   "metadata": {},
   "outputs": [],
   "source": []
  }
 ],
 "metadata": {
  "kernelspec": {
   "display_name": "Python 3",
   "language": "python",
   "name": "python3"
  },
  "language_info": {
   "codemirror_mode": {
    "name": "ipython",
    "version": 3
   },
   "file_extension": ".py",
   "mimetype": "text/x-python",
   "name": "python",
   "nbconvert_exporter": "python",
   "pygments_lexer": "ipython3",
   "version": "3.7.6"
  },
  "varInspector": {
   "cols": {
    "lenName": 16,
    "lenType": 16,
    "lenVar": 40
   },
   "kernels_config": {
    "python": {
     "delete_cmd_postfix": "",
     "delete_cmd_prefix": "del ",
     "library": "var_list.py",
     "varRefreshCmd": "print(var_dic_list())"
    },
    "r": {
     "delete_cmd_postfix": ") ",
     "delete_cmd_prefix": "rm(",
     "library": "var_list.r",
     "varRefreshCmd": "cat(var_dic_list()) "
    }
   },
   "types_to_exclude": [
    "module",
    "function",
    "builtin_function_or_method",
    "instance",
    "_Feature"
   ],
   "window_display": false
  }
 },
 "nbformat": 4,
 "nbformat_minor": 2
}
