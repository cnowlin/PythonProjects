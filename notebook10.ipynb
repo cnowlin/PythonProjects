{
 "cells": [
  {
   "cell_type": "markdown",
   "metadata": {},
   "source": [
    "# Notebook 10\n",
    "### IS6713 - Summer 2020  \n",
    "\n",
    "Instructions:\n",
    "1. Add the lines of code required to obtain the requested output.\n",
    "\n",
    "2. The code should be inserted where requested   \n",
    "   \n",
    "3. Do not modify other parts of this notebook.  \n",
    "  \n",
    "4. Remember to write in your name and abc123 in the first cell of this notebook.\n",
    "  \n",
    "5. Upload the notebook on Blackboard before the deadline!"
   ]
  },
  {
   "cell_type": "markdown",
   "metadata": {},
   "source": [
    "# Exercise 10.1 \n",
    "### IRIS\n",
    "Do the following:\n",
    "1. Load the **iris.csv** dataset into a numpy array. The first 4 columns are the  features/attributes. The last column is the class. Simply load the class as a list of strings. You can use the CVS method to load the features into a list of lists (X) and to load the gold label as a list (y). Then, convert X and y into a numpy array (hint: use np.array() for the conversion).\n",
    "2. Use train_test_split() to split X and y into train and test. (use 0.2 for the test_size)\n",
    "3. Train an SVM classifier on the train split and evaluate its accuracy on the test split. Print the accuracy.\n",
    "4. Apply PCA to the array X, reducing the number of features to 2. Save the new set of features in a different array (e.g. newX)\n",
    "4. Split the new dataset (newX) and y in train and test\n",
    "5. Train an SVM classifier on the train split and evaluate the accuracy on the test. Print the new accuracy.\n",
    "6. Compare the results from 3) and 5). Which one is better?\n",
    "  \n",
    "Note that this is a toy dataset, so all scores will be high."
   ]
  },
  {
   "cell_type": "code",
   "execution_count": 1,
   "metadata": {},
   "outputs": [],
   "source": [
    "import csv\n",
    "import numpy as np\n",
    "X = [] # Will be a list of lists\n",
    "y = [] # will be a list\n",
    "\n",
    "## Write here your code\n",
    "## read the file\n",
    "\n",
    "## Write below your code\n",
    "with open('iris.csv') as f:\n",
    "    for row in f:\n",
    "        columns = row.strip().split(',')\n",
    "        X.append([float(x) for x in columns[:-1]])\n",
    "        y.append(columns[-1])\n",
    "        \n",
    "X = np.array(X)\n",
    "y = np.array(y)"
   ]
  },
  {
   "cell_type": "code",
   "execution_count": 2,
   "metadata": {},
   "outputs": [],
   "source": [
    "from sklearn.model_selection import train_test_split\n",
    "# split into train and test\n",
    "X_train, X_test, y_train, y_test = train_test_split(X, y, test_size=0.2, random_state=0)"
   ]
  },
  {
   "cell_type": "code",
   "execution_count": 3,
   "metadata": {},
   "outputs": [
    {
     "name": "stdout",
     "output_type": "stream",
     "text": [
      "SVM accuracy: 1.0\n"
     ]
    }
   ],
   "source": [
    "from sklearn.svm import SVC\n",
    "from sklearn.metrics import accuracy_score\n",
    "\n",
    "# train an SVM Classifier, test and print the accuracy\n",
    "clf  = SVC()\n",
    "clf.fit(X_train, y_train)\n",
    "\n",
    "y_pred = clf.predict(X_test)\n",
    "accuracy = accuracy_score(y_test, y_pred)\n",
    "\n",
    "print(\"SVM accuracy: {}\".format(accuracy))"
   ]
  },
  {
   "cell_type": "code",
   "execution_count": 4,
   "metadata": {},
   "outputs": [
    {
     "name": "stdout",
     "output_type": "stream",
     "text": [
      "Original dataset (150, 4) Dataset after PCA (150, 2)\n"
     ]
    }
   ],
   "source": [
    "from sklearn.decomposition import PCA\n",
    "from sklearn.preprocessing import StandardScaler\n",
    "\n",
    "## Run a PCA to select only 2 components and create a new dataset\n",
    "ss = StandardScaler()\n",
    "X_scale = ss.fit_transform(X)\n",
    "pca = PCA(n_components=2)\n",
    "X_scale.shape\n",
    "new_X = pca.fit_transform(X_scale)\n",
    "print(\"Original dataset\", X.shape, \"Dataset after PCA\", new_X.shape)"
   ]
  },
  {
   "cell_type": "code",
   "execution_count": 7,
   "metadata": {},
   "outputs": [
    {
     "name": "stdout",
     "output_type": "stream",
     "text": [
      "SVM accuracy: 1.0\n"
     ]
    }
   ],
   "source": [
    "from sklearn.model_selection import train_test_split\n",
    "\n",
    "## Split the new dataset, train a SVM classifier, test and print the accuracy\n",
    "X_train, X_test, y_train, y_test = train_test_split(X, y, test_size=0.2, random_state=0)\n",
    "\n",
    "new_clf  = SVC()\n",
    "new_clf.fit(X_train, y_train)\n",
    "\n",
    "y_pred = new_clf.predict(X_test)\n",
    "accuracy = accuracy_score(y_test, y_pred)\n",
    "\n",
    "print(\"SVM accuracy: {}\".format(accuracy))"
   ]
  },
  {
   "cell_type": "code",
   "execution_count": 9,
   "metadata": {},
   "outputs": [],
   "source": [
    "# Comment about the differences. Is the difference big or small?\n",
    "\n",
    "# There is not a significant difference between the two results"
   ]
  },
  {
   "cell_type": "code",
   "execution_count": null,
   "metadata": {},
   "outputs": [],
   "source": []
  }
 ],
 "metadata": {
  "kernelspec": {
   "display_name": "Python 3",
   "language": "python",
   "name": "python3"
  },
  "language_info": {
   "codemirror_mode": {
    "name": "ipython",
    "version": 3
   },
   "file_extension": ".py",
   "mimetype": "text/x-python",
   "name": "python",
   "nbconvert_exporter": "python",
   "pygments_lexer": "ipython3",
   "version": "3.7.6"
  },
  "varInspector": {
   "cols": {
    "lenName": 16,
    "lenType": 16,
    "lenVar": 40
   },
   "kernels_config": {
    "python": {
     "delete_cmd_postfix": "",
     "delete_cmd_prefix": "del ",
     "library": "var_list.py",
     "varRefreshCmd": "print(var_dic_list())"
    },
    "r": {
     "delete_cmd_postfix": ") ",
     "delete_cmd_prefix": "rm(",
     "library": "var_list.r",
     "varRefreshCmd": "cat(var_dic_list()) "
    }
   },
   "types_to_exclude": [
    "module",
    "function",
    "builtin_function_or_method",
    "instance",
    "_Feature"
   ],
   "window_display": false
  }
 },
 "nbformat": 4,
 "nbformat_minor": 4
}
