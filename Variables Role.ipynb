{
 "cells": [
  {
   "cell_type": "markdown",
   "metadata": {},
   "source": [
    "# Variables Role\n"
   ]
  },
  {
   "cell_type": "code",
   "execution_count": 2,
   "metadata": {},
   "outputs": [
    {
     "data": {
      "text/plain": [
       "{'B': 2, 'A': 1, 'C': 3}"
      ]
     },
     "execution_count": 2,
     "metadata": {},
     "output_type": "execute_result"
    }
   ],
   "source": [
    "myList = ['A', 'C', 'C', 'B', 'B', 'C' ]\n",
    "freq = dict().fromkeys(set(myList), 0)\n",
    "for x in myList:\n",
    "    freq[x] += 1\n",
    "# to het the frequency of a specific element, use dictionary[key] --> value\n",
    "freq"
   ]
  },
  {
   "cell_type": "code",
   "execution_count": 3,
   "metadata": {},
   "outputs": [
    {
     "name": "stdout",
     "output_type": "stream",
     "text": [
      "Highest value is 7, corresponding to the key D\n"
     ]
    }
   ],
   "source": [
    "# this chunk of code gets the dictionary freq as input\n",
    "freq = {'A': 3,'B': 5, 'D': 7, 'C': 2}\n",
    "# my target is to find the maxValue and corresponding maxKey\n",
    "# these are the outcome of my code\n",
    "maxValue, maxKey = 0, 0\n",
    "# for loop the dict. K is a variable with local importance. Its a working variable.\n",
    "for k in freq:\n",
    "    # if a value is greater than the maxValue found so far, memorize the value and key.\n",
    "    if freq[k] > maxValue:\n",
    "        maxValue = freq[k]\n",
    "        maxKey = k\n",
    "        \n",
    "# print\n",
    "print(\"Highest value is {}, corresponding to the key {}\".format(maxValue, maxKey))\n"
   ]
  },
  {
   "cell_type": "code",
   "execution_count": null,
   "metadata": {},
   "outputs": [],
   "source": []
  }
 ],
 "metadata": {
  "kernelspec": {
   "display_name": "Python 3",
   "language": "python",
   "name": "python3"
  },
  "language_info": {
   "codemirror_mode": {
    "name": "ipython",
    "version": 3
   },
   "file_extension": ".py",
   "mimetype": "text/x-python",
   "name": "python",
   "nbconvert_exporter": "python",
   "pygments_lexer": "ipython3",
   "version": "3.7.6"
  }
 },
 "nbformat": 4,
 "nbformat_minor": 4
}
